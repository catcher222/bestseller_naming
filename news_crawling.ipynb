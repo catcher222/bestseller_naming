{
 "cells": [
  {
   "cell_type": "code",
   "execution_count": 1,
   "id": "dc4f17ae",
   "metadata": {},
   "outputs": [],
   "source": [
    "import pandas as pd\n",
    "from selenium import webdriver\n",
    "from selenium.webdriver.chrome.options import Options\n",
    "from selenium.webdriver.common.keys import Keys\n",
    "import time"
   ]
  },
  {
   "cell_type": "code",
   "execution_count": 2,
   "id": "7a2568ad",
   "metadata": {},
   "outputs": [],
   "source": [
    "driver = webdriver.Chrome()"
   ]
  },
  {
   "cell_type": "code",
   "execution_count": 3,
   "id": "2f533adc",
   "metadata": {},
   "outputs": [],
   "source": [
    "news_title = pd.DataFrame(columns =[\"body\",\"rabel\"])"
   ]
  },
  {
   "cell_type": "code",
   "execution_count": 16,
   "id": "e2a0b1c2",
   "metadata": {},
   "outputs": [
    {
     "name": "stderr",
     "output_type": "stream",
     "text": [
      "C:\\Users\\User\\AppData\\Local\\Temp/ipykernel_3164/1309095252.py:9: DeprecationWarning: find_elements_by_* commands are deprecated. Please use find_elements() instead\n",
      "  element = driver.find_elements_by_class_name(\"tit_thumb\")\n",
      "C:\\Users\\User\\AppData\\Local\\Temp/ipykernel_3164/1309095252.py:22: DeprecationWarning: find_elements_by_* commands are deprecated. Please use find_elements() instead\n",
      "  element = driver.find_elements_by_class_name(\"tit_thumb\")\n"
     ]
    }
   ],
   "source": [
    "for month in list([\"12\"]):\n",
    "    if month == '01' or '03' or '05' or '07' or '08' or '10' or '12':\n",
    "        for day in list(range(1,32)):\n",
    "            for page in list(range(1,11)):\n",
    "                if day <10:    \n",
    "                    url = \"https://news.daum.net/breakingnews/society?page=\"+str(page)+\"&regDate=2021\"+month+\"0\"+str(day)\n",
    "                    driver.get(url)\n",
    "                    time.sleep(1)\n",
    "                    element = driver.find_elements_by_class_name(\"tit_thumb\")\n",
    "                    to_str = []\n",
    "                    to_df = pd.DataFrame()\n",
    "                    for count in list(range(0,15)): # element 갯수\n",
    "                        to_str.append(element[count].text)\n",
    "                        \n",
    "                    to_df = pd.DataFrame(to_str)\n",
    "                    news_title = news_title.append(to_df)\n",
    "                    \n",
    "                else :\n",
    "                    url = \"https://news.daum.net/breakingnews/society?page=\"+str(page)+\"&regDate=2021\"+month+str(day)\n",
    "                    driver.get(url)\n",
    "                    time.sleep(1)\n",
    "                    element = driver.find_elements_by_class_name(\"tit_thumb\")\n",
    "                    to_str = []\n",
    "                    to_df = pd.DataFrame()\n",
    "                    for count in list(range(0,15)): # element 갯수\n",
    "                        to_str.append(element[count].text)\n",
    "                        \n",
    "                    to_df = pd.DataFrame(to_str)\n",
    "                    news_title = news_title.append(to_df)\n",
    "                    \n",
    "            \n",
    "    elif month == '04' or '06' or '09' or '11':\n",
    "        for day in list(range(1,31)):\n",
    "            for page in list(range(1,11)):\n",
    "                if day <10:    \n",
    "                    url = \"https://news.daum.net/breakingnews/society?page=\"+str(page)+\"&regDate=2021\"+month+\"0\"+str(day)\n",
    "                    driver.get(url)\n",
    "                    time.sleep(1)\n",
    "                    element = driver.find_elements_by_class_name(\"tit_thumb\")\n",
    "                    to_str = []\n",
    "                    to_df = pd.DataFrame()\n",
    "                    for count in list(range(0,15)): # element 갯수\n",
    "                        to_str.append(element[count].text)\n",
    "                        \n",
    "                    to_df = pd.DataFrame(to_str)\n",
    "                    news_title = news_title.append(to_df)\n",
    "                else:\n",
    "                    url = \"https://news.daum.net/breakingnews/society?page=\"+str(page)+\"&regDate=2021\"+month+str(day)\n",
    "                    driver.get(url)\n",
    "                    time.sleep(1)\n",
    "                    element = driver.find_elements_by_class_name(\"tit_thumb\")\n",
    "                    to_str = []\n",
    "                    to_df = pd.DataFrame()\n",
    "                    for count in list(range(0,15)): # element 갯수\n",
    "                        to_str.append(element[count].text)\n",
    "                        \n",
    "                    to_df = pd.DataFrame(to_str)\n",
    "                    news_title = news_title.append(to_df)\n",
    "        \n",
    "    else: \n",
    "        for day in list(range(1,29)):\n",
    "            for page in list(range(1,11)):\n",
    "                if day <10:    \n",
    "                    url = \"https://news.daum.net/breakingnews/society?page=\"+str(page)+\"&regDate=2021\"+month+\"0\"+str(day)\n",
    "                    driver.get(url)\n",
    "                    time.sleep(1)\n",
    "                    element = driver.find_elements_by_class_name(\"tit_thumb\")\n",
    "                    to_str = []\n",
    "                    to_df = pd.DataFrame()\n",
    "                    for count in list(range(0,15)): # element 갯수\n",
    "                        to_str.append(element[count].text)\n",
    "                        \n",
    "                    to_df = pd.DataFrame(to_str)\n",
    "                    news_title = news_title.append(to_df)\n",
    "                else:\n",
    "                    url = \"https://news.daum.net/breakingnews/society?page=\"+str(page)+\"&regDate=2021\"+month+str(day)\n",
    "                    driver.get(url)\n",
    "                    time.sleep(1)\n",
    "                    element = driver.find_elements_by_class_name(\"tit_thumb\")\n",
    "                    to_str = []\n",
    "                    to_df = pd.DataFrame()\n",
    "                    for count in list(range(0,15)): # element 갯수\n",
    "                        to_str.append(element[count].text)\n",
    "                        \n",
    "                    to_df = pd.DataFrame(to_str)\n",
    "                    news_title = news_title.append(to_df)"
   ]
  },
  {
   "cell_type": "code",
   "execution_count": 147,
   "id": "5366e6c0",
   "metadata": {},
   "outputs": [],
   "source": [
    "#원본데이터를 보존하기 위해 news_title을 새로운 객체로 선언\n",
    "news_title_2021 = news_title"
   ]
  },
  {
   "cell_type": "code",
   "execution_count": 148,
   "id": "b36852f9",
   "metadata": {},
   "outputs": [],
   "source": [
    "#라벨링 과정\n",
    "news_title_2021[\"rabel\"] = 1"
   ]
  },
  {
   "cell_type": "code",
   "execution_count": 149,
   "id": "7d87b5bf",
   "metadata": {},
   "outputs": [],
   "source": [
    "#0에 들어갔던 title을 title column에 옮겨줌\n",
    "news_title_2021[\"title\"] = news_title[0]"
   ]
  },
  {
   "cell_type": "code",
   "execution_count": null,
   "id": "f4092787",
   "metadata": {},
   "outputs": [],
   "source": [
    "#0을 삭제\n",
    "news_title_2021 = news_title_2021.drop([0,\"body\"], axis = 'columns')"
   ]
  },
  {
   "cell_type": "code",
   "execution_count": 150,
   "id": "4e38b517",
   "metadata": {},
   "outputs": [
    {
     "data": {
      "text/html": [
       "<div>\n",
       "<style scoped>\n",
       "    .dataframe tbody tr th:only-of-type {\n",
       "        vertical-align: middle;\n",
       "    }\n",
       "\n",
       "    .dataframe tbody tr th {\n",
       "        vertical-align: top;\n",
       "    }\n",
       "\n",
       "    .dataframe thead th {\n",
       "        text-align: right;\n",
       "    }\n",
       "</style>\n",
       "<table border=\"1\" class=\"dataframe\">\n",
       "  <thead>\n",
       "    <tr style=\"text-align: right;\">\n",
       "      <th></th>\n",
       "      <th>rabel</th>\n",
       "      <th>title</th>\n",
       "    </tr>\n",
       "  </thead>\n",
       "  <tbody>\n",
       "    <tr>\n",
       "      <th>10</th>\n",
       "      <td>1</td>\n",
       "      <td>모닝라이프, 머니투데이 2021 대한민국 소비자만족지수1위 수상 머니투데이 · 20:22</td>\n",
       "    </tr>\n",
       "    <tr>\n",
       "      <th>11</th>\n",
       "      <td>1</td>\n",
       "      <td>LG에너지솔루션, 거래소 상장 예비심사 통과 데일리안 · 20:21</td>\n",
       "    </tr>\n",
       "    <tr>\n",
       "      <th>12</th>\n",
       "      <td>1</td>\n",
       "      <td>편의점 미니스톱 다시 매물로..입찰 서류 마감 헤럴드경제 · 20:20</td>\n",
       "    </tr>\n",
       "    <tr>\n",
       "      <th>13</th>\n",
       "      <td>1</td>\n",
       "      <td>일진머티리얼즈, 1조1500억 투자 유치 성공..창사 최대 규모(종합) 뉴시스 · ...</td>\n",
       "    </tr>\n",
       "    <tr>\n",
       "      <th>14</th>\n",
       "      <td>1</td>\n",
       "      <td>[간추린 뉴스] 광주공항 이용객, 코로나19 이전 수준 회복 외 KBS · 20:19</td>\n",
       "    </tr>\n",
       "  </tbody>\n",
       "</table>\n",
       "</div>"
      ],
      "text/plain": [
       "    rabel                                              title\n",
       "10      1  모닝라이프, 머니투데이 2021 대한민국 소비자만족지수1위 수상 머니투데이 · 20:22\n",
       "11      1              LG에너지솔루션, 거래소 상장 예비심사 통과 데일리안 · 20:21\n",
       "12      1            편의점 미니스톱 다시 매물로..입찰 서류 마감 헤럴드경제 · 20:20\n",
       "13      1  일진머티리얼즈, 1조1500억 투자 유치 성공..창사 최대 규모(종합) 뉴시스 · ...\n",
       "14      1    [간추린 뉴스] 광주공항 이용객, 코로나19 이전 수준 회복 외 KBS · 20:19"
      ]
     },
     "execution_count": 150,
     "metadata": {},
     "output_type": "execute_result"
    }
   ],
   "source": [
    "news_title_2021.tail()"
   ]
  },
  {
   "cell_type": "code",
   "execution_count": 153,
   "id": "79b44ee8",
   "metadata": {},
   "outputs": [
    {
     "data": {
      "text/plain": [
       "'세진중공업, 560억 규모 육상플랜트 모듈 수주 KBS · 23:54'"
      ]
     },
     "execution_count": 153,
     "metadata": {},
     "output_type": "execute_result"
    }
   ],
   "source": [
    "news_title_2021.iloc[0,1]"
   ]
  },
  {
   "cell_type": "code",
   "execution_count": 154,
   "id": "f4b13230",
   "metadata": {},
   "outputs": [
    {
     "data": {
      "text/html": [
       "<div>\n",
       "<style scoped>\n",
       "    .dataframe tbody tr th:only-of-type {\n",
       "        vertical-align: middle;\n",
       "    }\n",
       "\n",
       "    .dataframe tbody tr th {\n",
       "        vertical-align: top;\n",
       "    }\n",
       "\n",
       "    .dataframe thead th {\n",
       "        text-align: right;\n",
       "    }\n",
       "</style>\n",
       "<table border=\"1\" class=\"dataframe\">\n",
       "  <thead>\n",
       "    <tr style=\"text-align: right;\">\n",
       "      <th></th>\n",
       "      <th>rabel</th>\n",
       "      <th>title</th>\n",
       "    </tr>\n",
       "  </thead>\n",
       "  <tbody>\n",
       "    <tr>\n",
       "      <th>0</th>\n",
       "      <td>1</td>\n",
       "      <td>세진중공업, 560억 규모 육상플랜트 모듈 수주</td>\n",
       "    </tr>\n",
       "    <tr>\n",
       "      <th>1</th>\n",
       "      <td>1</td>\n",
       "      <td>한국조선해양, 지난해 수주액 100억 달러..목표 91% 달성</td>\n",
       "    </tr>\n",
       "    <tr>\n",
       "      <th>2</th>\n",
       "      <td>1</td>\n",
       "      <td>\"경기 하락세 1분기에는 다소 완화될 듯\"</td>\n",
       "    </tr>\n",
       "    <tr>\n",
       "      <th>3</th>\n",
       "      <td>1</td>\n",
       "      <td>울산 소상공인 81%는 '임차인'..보증금 네 번째 높아</td>\n",
       "    </tr>\n",
       "    <tr>\n",
       "      <th>4</th>\n",
       "      <td>1</td>\n",
       "      <td>횡성군, 산모 산후 관리비 지원 확대</td>\n",
       "    </tr>\n",
       "    <tr>\n",
       "      <th>...</th>\n",
       "      <td>...</td>\n",
       "      <td>...</td>\n",
       "    </tr>\n",
       "    <tr>\n",
       "      <th>10</th>\n",
       "      <td>1</td>\n",
       "      <td>모닝라이프, 머니투데이 2021 대한민국 소비자만족지수1위 수상 머</td>\n",
       "    </tr>\n",
       "    <tr>\n",
       "      <th>11</th>\n",
       "      <td>1</td>\n",
       "      <td>LG에너지솔루션, 거래소 상장 예비심사 통과</td>\n",
       "    </tr>\n",
       "    <tr>\n",
       "      <th>12</th>\n",
       "      <td>1</td>\n",
       "      <td>편의점 미니스톱 다시 매물로..입찰 서류 마감 헤</td>\n",
       "    </tr>\n",
       "    <tr>\n",
       "      <th>13</th>\n",
       "      <td>1</td>\n",
       "      <td>일진머티리얼즈, 1조1500억 투자 유치 성공..창사 최대 규모(종합)</td>\n",
       "    </tr>\n",
       "    <tr>\n",
       "      <th>14</th>\n",
       "      <td>1</td>\n",
       "      <td>[간추린 뉴스] 광주공항 이용객, 코로나19 이전 수준 회복 외</td>\n",
       "    </tr>\n",
       "  </tbody>\n",
       "</table>\n",
       "<p>50400 rows × 2 columns</p>\n",
       "</div>"
      ],
      "text/plain": [
       "    rabel                                    title\n",
       "0       1               세진중공업, 560억 규모 육상플랜트 모듈 수주\n",
       "1       1       한국조선해양, 지난해 수주액 100억 달러..목표 91% 달성\n",
       "2       1                  \"경기 하락세 1분기에는 다소 완화될 듯\"\n",
       "3       1          울산 소상공인 81%는 '임차인'..보증금 네 번째 높아\n",
       "4       1                     횡성군, 산모 산후 관리비 지원 확대\n",
       "..    ...                                      ...\n",
       "10      1    모닝라이프, 머니투데이 2021 대한민국 소비자만족지수1위 수상 머\n",
       "11      1                LG에너지솔루션, 거래소 상장 예비심사 통과 \n",
       "12      1              편의점 미니스톱 다시 매물로..입찰 서류 마감 헤\n",
       "13      1  일진머티리얼즈, 1조1500억 투자 유치 성공..창사 최대 규모(종합)\n",
       "14      1      [간추린 뉴스] 광주공항 이용객, 코로나19 이전 수준 회복 외\n",
       "\n",
       "[50400 rows x 2 columns]"
      ]
     },
     "execution_count": 154,
     "metadata": {},
     "output_type": "execute_result"
    }
   ],
   "source": [
    "for i in list(range(len(news_title_2021))):\n",
    "    news_title_2021.iloc[i,1] = news_title_2021.iloc[i,1][:-12]\n",
    "    \n",
    "news_title_2021"
   ]
  },
  {
   "cell_type": "code",
   "execution_count": 164,
   "id": "27b71212",
   "metadata": {},
   "outputs": [],
   "source": [
    "#저장\n",
    "news_title_2021.to_csv(\"news_2021.csv\", encoding=\"utf-16\", index = False)"
   ]
  },
  {
   "cell_type": "code",
   "execution_count": null,
   "id": "87def784",
   "metadata": {},
   "outputs": [],
   "source": []
  },
  {
   "cell_type": "code",
   "execution_count": null,
   "id": "425a350f",
   "metadata": {},
   "outputs": [],
   "source": []
  }
 ],
 "metadata": {
  "kernelspec": {
   "display_name": "Python 3 (ipykernel)",
   "language": "python",
   "name": "python3"
  },
  "language_info": {
   "codemirror_mode": {
    "name": "ipython",
    "version": 3
   },
   "file_extension": ".py",
   "mimetype": "text/x-python",
   "name": "python",
   "nbconvert_exporter": "python",
   "pygments_lexer": "ipython3",
   "version": "3.9.7"
  }
 },
 "nbformat": 4,
 "nbformat_minor": 5
}
