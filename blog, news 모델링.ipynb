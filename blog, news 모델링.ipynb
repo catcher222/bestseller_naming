{
 "cells": [
  {
   "cell_type": "code",
   "execution_count": 1,
   "id": "99724b8a",
   "metadata": {},
   "outputs": [],
   "source": [
    "import pandas as pd"
   ]
  },
  {
   "cell_type": "code",
   "execution_count": 3,
   "id": "784795c2",
   "metadata": {},
   "outputs": [],
   "source": [
    "blog_2019 = pd.read_csv(\"blog_2019.csv\")"
   ]
  },
  {
   "cell_type": "code",
   "execution_count": 5,
   "id": "ab250eff",
   "metadata": {},
   "outputs": [],
   "source": [
    "blog_2019 =blog_2019.drop(columns = [\"rabel\"])"
   ]
  },
  {
   "cell_type": "code",
   "execution_count": 7,
   "id": "4845a555",
   "metadata": {},
   "outputs": [],
   "source": [
    "blog_2019[\"label\"] = 0"
   ]
  },
  {
   "cell_type": "code",
   "execution_count": 17,
   "id": "59e52d11",
   "metadata": {},
   "outputs": [
    {
     "data": {
      "text/html": [
       "<div>\n",
       "<style scoped>\n",
       "    .dataframe tbody tr th:only-of-type {\n",
       "        vertical-align: middle;\n",
       "    }\n",
       "\n",
       "    .dataframe tbody tr th {\n",
       "        vertical-align: top;\n",
       "    }\n",
       "\n",
       "    .dataframe thead th {\n",
       "        text-align: right;\n",
       "    }\n",
       "</style>\n",
       "<table border=\"1\" class=\"dataframe\">\n",
       "  <thead>\n",
       "    <tr style=\"text-align: right;\">\n",
       "      <th></th>\n",
       "      <th>body</th>\n",
       "      <th>label</th>\n",
       "    </tr>\n",
       "  </thead>\n",
       "  <tbody>\n",
       "    <tr>\n",
       "      <th>0</th>\n",
       "      <td>세액공제와 과세이연 받으며 노후를 준비하자![경제도서 추천]</td>\n",
       "      <td>0</td>\n",
       "    </tr>\n",
       "    <tr>\n",
       "      <th>1</th>\n",
       "      <td>굴리기 도서 리뷰 | 국민연금만 믿고 있거나, 지금 가입한 연금 상품의 종류와 특성...</td>\n",
       "      <td>0</td>\n",
       "    </tr>\n",
       "    <tr>\n",
       "      <th>2</th>\n",
       "      <td>경제도서 신간 2030축의전환 완독</td>\n",
       "      <td>0</td>\n",
       "    </tr>\n",
       "    <tr>\n",
       "      <th>3</th>\n",
       "      <td>경제도서 찾아보면 대략 다 비슷하게 알만한 내용인 것 같기도 하고... 큰 목차를....</td>\n",
       "      <td>0</td>\n",
       "    </tr>\n",
       "    <tr>\n",
       "      <th>4</th>\n",
       "      <td>경제도서) 부의골든타임</td>\n",
       "      <td>0</td>\n",
       "    </tr>\n",
       "    <tr>\n",
       "      <th>...</th>\n",
       "      <td>...</td>\n",
       "      <td>...</td>\n",
       "    </tr>\n",
       "    <tr>\n",
       "      <th>2095</th>\n",
       "      <td>무천강 작가의 돈 버는 80가지 습관을 책과 경제를 좋아하는 분들에게 추천드리고 싶...</td>\n",
       "      <td>0</td>\n",
       "    </tr>\n",
       "    <tr>\n",
       "      <th>2096</th>\n",
       "      <td>경제관련 추천 도서 15</td>\n",
       "      <td>0</td>\n",
       "    </tr>\n",
       "    <tr>\n",
       "      <th>2097</th>\n",
       "      <td>1 경제기사 궁금증 300문 300답 곽해선 저, 동아일보사 2 자본주의 EBS자본...</td>\n",
       "      <td>0</td>\n",
       "    </tr>\n",
       "    <tr>\n",
       "      <th>2098</th>\n",
       "      <td>[도서인증] 경제학자의 인문학 서재</td>\n",
       "      <td>0</td>\n",
       "    </tr>\n",
       "    <tr>\n",
       "      <th>2099</th>\n",
       "      <td>이 책은 제목처럼 경제학자 박정호님이 '경제'에 대해 쉽게 이해하도록 인문학을 빌어...</td>\n",
       "      <td>0</td>\n",
       "    </tr>\n",
       "  </tbody>\n",
       "</table>\n",
       "<p>2100 rows × 2 columns</p>\n",
       "</div>"
      ],
      "text/plain": [
       "                                                   body  label\n",
       "0                     세액공제와 과세이연 받으며 노후를 준비하자![경제도서 추천]      0\n",
       "1     굴리기 도서 리뷰 | 국민연금만 믿고 있거나, 지금 가입한 연금 상품의 종류와 특성...      0\n",
       "2                                   경제도서 신간 2030축의전환 완독      0\n",
       "3     경제도서 찾아보면 대략 다 비슷하게 알만한 내용인 것 같기도 하고... 큰 목차를....      0\n",
       "4                                          경제도서) 부의골든타임      0\n",
       "...                                                 ...    ...\n",
       "2095  무천강 작가의 돈 버는 80가지 습관을 책과 경제를 좋아하는 분들에게 추천드리고 싶...      0\n",
       "2096                                      경제관련 추천 도서 15      0\n",
       "2097  1 경제기사 궁금증 300문 300답 곽해선 저, 동아일보사 2 자본주의 EBS자본...      0\n",
       "2098                                [도서인증] 경제학자의 인문학 서재      0\n",
       "2099  이 책은 제목처럼 경제학자 박정호님이 '경제'에 대해 쉽게 이해하도록 인문학을 빌어...      0\n",
       "\n",
       "[2100 rows x 2 columns]"
      ]
     },
     "execution_count": 17,
     "metadata": {},
     "output_type": "execute_result"
    }
   ],
   "source": [
    "blog_2019"
   ]
  },
  {
   "cell_type": "code",
   "execution_count": 18,
   "id": "b6649f19",
   "metadata": {},
   "outputs": [],
   "source": [
    "blog_2021 = pd.read_csv(\"blog_2021.csv\", encoding = \"utf16\")\n",
    "blog_2021 = blog_2021.drop(columns =[\"rabel\"])"
   ]
  },
  {
   "cell_type": "code",
   "execution_count": 14,
   "id": "3f6553f6",
   "metadata": {},
   "outputs": [],
   "source": [
    "news_2019 = pd.read_csv(\"news_2019.csv\", encoding = \"utf16\")\n",
    "news_2021 = pd.read_csv(\"news_2021.csv\", encoding = \"utf16\")"
   ]
  },
  {
   "cell_type": "code",
   "execution_count": 27,
   "id": "c5eadd5a",
   "metadata": {},
   "outputs": [
    {
     "data": {
      "text/html": [
       "<div>\n",
       "<style scoped>\n",
       "    .dataframe tbody tr th:only-of-type {\n",
       "        vertical-align: middle;\n",
       "    }\n",
       "\n",
       "    .dataframe tbody tr th {\n",
       "        vertical-align: top;\n",
       "    }\n",
       "\n",
       "    .dataframe thead th {\n",
       "        text-align: right;\n",
       "    }\n",
       "</style>\n",
       "<table border=\"1\" class=\"dataframe\">\n",
       "  <thead>\n",
       "    <tr style=\"text-align: right;\">\n",
       "      <th></th>\n",
       "      <th>title</th>\n",
       "      <th>label</th>\n",
       "    </tr>\n",
       "  </thead>\n",
       "  <tbody>\n",
       "    <tr>\n",
       "      <th>0</th>\n",
       "      <td>기해년 새해 소망 사자성어 '마고소양(麻姑搔痒)'</td>\n",
       "      <td>0</td>\n",
       "    </tr>\n",
       "    <tr>\n",
       "      <th>1</th>\n",
       "      <td>지난해 자영업자 경기체감지수 사상 최대폭 하락</td>\n",
       "      <td>0</td>\n",
       "    </tr>\n",
       "    <tr>\n",
       "      <th>2</th>\n",
       "      <td>[가상화폐 뉴스] 01월 01일 23시 30분 비트코인(-0.95%), 질리카(4....</td>\n",
       "      <td>0</td>\n",
       "    </tr>\n",
       "    <tr>\n",
       "      <th>3</th>\n",
       "      <td>이마트, '한우 등심' 6개월간 가격 동결..\"33% 할인된 가격에 판매\"</td>\n",
       "      <td>0</td>\n",
       "    </tr>\n",
       "    <tr>\n",
       "      <th>4</th>\n",
       "      <td>이낙연 총리 \"일자리 지표 좋아져..정책기조 유지 부작용 최소화\"</td>\n",
       "      <td>0</td>\n",
       "    </tr>\n",
       "    <tr>\n",
       "      <th>...</th>\n",
       "      <td>...</td>\n",
       "      <td>...</td>\n",
       "    </tr>\n",
       "    <tr>\n",
       "      <th>54745</th>\n",
       "      <td>[인사]국토교통부</td>\n",
       "      <td>0</td>\n",
       "    </tr>\n",
       "    <tr>\n",
       "      <th>54746</th>\n",
       "      <td>[인사]우리카드</td>\n",
       "      <td>0</td>\n",
       "    </tr>\n",
       "    <tr>\n",
       "      <th>54747</th>\n",
       "      <td>[집중진단] 국위선양 BTS, 무례한 매력 펭수까지..경제효과는? SBS</td>\n",
       "      <td>0</td>\n",
       "    </tr>\n",
       "    <tr>\n",
       "      <th>54748</th>\n",
       "      <td>휴온스 \"美FDA서 부피바카인염산염 주사제 품목허가\" 머</td>\n",
       "      <td>0</td>\n",
       "    </tr>\n",
       "    <tr>\n",
       "      <th>54749</th>\n",
       "      <td>소비자물가 54년 만에 최저..\"디플레 아니지만 소비·투자 늘려야\"</td>\n",
       "      <td>0</td>\n",
       "    </tr>\n",
       "  </tbody>\n",
       "</table>\n",
       "<p>54750 rows × 2 columns</p>\n",
       "</div>"
      ],
      "text/plain": [
       "                                                   title  label\n",
       "0                            기해년 새해 소망 사자성어 '마고소양(麻姑搔痒)'      0\n",
       "1                              지난해 자영업자 경기체감지수 사상 최대폭 하락      0\n",
       "2      [가상화폐 뉴스] 01월 01일 23시 30분 비트코인(-0.95%), 질리카(4....      0\n",
       "3             이마트, '한우 등심' 6개월간 가격 동결..\"33% 할인된 가격에 판매\"       0\n",
       "4                  이낙연 총리 \"일자리 지표 좋아져..정책기조 유지 부작용 최소화\"       0\n",
       "...                                                  ...    ...\n",
       "54745                                          [인사]국토교통부      0\n",
       "54746                                          [인사]우리카드       0\n",
       "54747           [집중진단] 국위선양 BTS, 무례한 매력 펭수까지..경제효과는? SBS      0\n",
       "54748                    휴온스 \"美FDA서 부피바카인염산염 주사제 품목허가\" 머      0\n",
       "54749              소비자물가 54년 만에 최저..\"디플레 아니지만 소비·투자 늘려야\"      0\n",
       "\n",
       "[54750 rows x 2 columns]"
      ]
     },
     "execution_count": 27,
     "metadata": {},
     "output_type": "execute_result"
    }
   ],
   "source": [
    "news_2019 = news_2019.rename(columns = {\"rabel\":\"label\"})\n",
    "news_2019 = news_2019.rename(columns = {\"body\":\"title\"})\n",
    "news_2019"
   ]
  },
  {
   "cell_type": "code",
   "execution_count": 30,
   "id": "5c122ad8",
   "metadata": {},
   "outputs": [
    {
     "data": {
      "text/html": [
       "<div>\n",
       "<style scoped>\n",
       "    .dataframe tbody tr th:only-of-type {\n",
       "        vertical-align: middle;\n",
       "    }\n",
       "\n",
       "    .dataframe tbody tr th {\n",
       "        vertical-align: top;\n",
       "    }\n",
       "\n",
       "    .dataframe thead th {\n",
       "        text-align: right;\n",
       "    }\n",
       "</style>\n",
       "<table border=\"1\" class=\"dataframe\">\n",
       "  <thead>\n",
       "    <tr style=\"text-align: right;\">\n",
       "      <th></th>\n",
       "      <th>label</th>\n",
       "      <th>title</th>\n",
       "    </tr>\n",
       "  </thead>\n",
       "  <tbody>\n",
       "    <tr>\n",
       "      <th>0</th>\n",
       "      <td>1</td>\n",
       "      <td>세진중공업, 560억 규모 육상플랜트 모듈 수주</td>\n",
       "    </tr>\n",
       "    <tr>\n",
       "      <th>1</th>\n",
       "      <td>1</td>\n",
       "      <td>한국조선해양, 지난해 수주액 100억 달러..목표 91% 달성</td>\n",
       "    </tr>\n",
       "    <tr>\n",
       "      <th>2</th>\n",
       "      <td>1</td>\n",
       "      <td>\"경기 하락세 1분기에는 다소 완화될 듯\"</td>\n",
       "    </tr>\n",
       "    <tr>\n",
       "      <th>3</th>\n",
       "      <td>1</td>\n",
       "      <td>울산 소상공인 81%는 '임차인'..보증금 네 번째 높아</td>\n",
       "    </tr>\n",
       "    <tr>\n",
       "      <th>4</th>\n",
       "      <td>1</td>\n",
       "      <td>횡성군, 산모 산후 관리비 지원 확대</td>\n",
       "    </tr>\n",
       "    <tr>\n",
       "      <th>...</th>\n",
       "      <td>...</td>\n",
       "      <td>...</td>\n",
       "    </tr>\n",
       "    <tr>\n",
       "      <th>50395</th>\n",
       "      <td>1</td>\n",
       "      <td>모닝라이프, 머니투데이 2021 대한민국 소비자만족지수1위 수상 머</td>\n",
       "    </tr>\n",
       "    <tr>\n",
       "      <th>50396</th>\n",
       "      <td>1</td>\n",
       "      <td>LG에너지솔루션, 거래소 상장 예비심사 통과</td>\n",
       "    </tr>\n",
       "    <tr>\n",
       "      <th>50397</th>\n",
       "      <td>1</td>\n",
       "      <td>편의점 미니스톱 다시 매물로..입찰 서류 마감 헤</td>\n",
       "    </tr>\n",
       "    <tr>\n",
       "      <th>50398</th>\n",
       "      <td>1</td>\n",
       "      <td>일진머티리얼즈, 1조1500억 투자 유치 성공..창사 최대 규모(종합)</td>\n",
       "    </tr>\n",
       "    <tr>\n",
       "      <th>50399</th>\n",
       "      <td>1</td>\n",
       "      <td>[간추린 뉴스] 광주공항 이용객, 코로나19 이전 수준 회복 외</td>\n",
       "    </tr>\n",
       "  </tbody>\n",
       "</table>\n",
       "<p>50400 rows × 2 columns</p>\n",
       "</div>"
      ],
      "text/plain": [
       "       label                                    title\n",
       "0          1               세진중공업, 560억 규모 육상플랜트 모듈 수주\n",
       "1          1       한국조선해양, 지난해 수주액 100억 달러..목표 91% 달성\n",
       "2          1                  \"경기 하락세 1분기에는 다소 완화될 듯\"\n",
       "3          1          울산 소상공인 81%는 '임차인'..보증금 네 번째 높아\n",
       "4          1                     횡성군, 산모 산후 관리비 지원 확대\n",
       "...      ...                                      ...\n",
       "50395      1    모닝라이프, 머니투데이 2021 대한민국 소비자만족지수1위 수상 머\n",
       "50396      1                LG에너지솔루션, 거래소 상장 예비심사 통과 \n",
       "50397      1              편의점 미니스톱 다시 매물로..입찰 서류 마감 헤\n",
       "50398      1  일진머티리얼즈, 1조1500억 투자 유치 성공..창사 최대 규모(종합)\n",
       "50399      1      [간추린 뉴스] 광주공항 이용객, 코로나19 이전 수준 회복 외\n",
       "\n",
       "[50400 rows x 2 columns]"
      ]
     },
     "execution_count": 30,
     "metadata": {},
     "output_type": "execute_result"
    }
   ],
   "source": [
    "news_2021 = news_2021.rename(columns = {\"body\":\"title\"})\n",
    "news_2021"
   ]
  },
  {
   "cell_type": "code",
   "execution_count": 34,
   "id": "edb944fe",
   "metadata": {},
   "outputs": [
    {
     "data": {
      "text/html": [
       "<div>\n",
       "<style scoped>\n",
       "    .dataframe tbody tr th:only-of-type {\n",
       "        vertical-align: middle;\n",
       "    }\n",
       "\n",
       "    .dataframe tbody tr th {\n",
       "        vertical-align: top;\n",
       "    }\n",
       "\n",
       "    .dataframe thead th {\n",
       "        text-align: right;\n",
       "    }\n",
       "</style>\n",
       "<table border=\"1\" class=\"dataframe\">\n",
       "  <thead>\n",
       "    <tr style=\"text-align: right;\">\n",
       "      <th></th>\n",
       "      <th>title</th>\n",
       "      <th>label</th>\n",
       "    </tr>\n",
       "  </thead>\n",
       "  <tbody>\n",
       "    <tr>\n",
       "      <th>0</th>\n",
       "      <td>세액공제와 과세이연 받으며 노후를 준비하자![경제도서 추천]</td>\n",
       "      <td>0</td>\n",
       "    </tr>\n",
       "    <tr>\n",
       "      <th>1</th>\n",
       "      <td>굴리기 도서 리뷰 | 국민연금만 믿고 있거나, 지금 가입한 연금 상품의 종류와 특성...</td>\n",
       "      <td>0</td>\n",
       "    </tr>\n",
       "    <tr>\n",
       "      <th>2</th>\n",
       "      <td>경제도서 신간 2030축의전환 완독</td>\n",
       "      <td>0</td>\n",
       "    </tr>\n",
       "    <tr>\n",
       "      <th>3</th>\n",
       "      <td>경제도서 찾아보면 대략 다 비슷하게 알만한 내용인 것 같기도 하고... 큰 목차를....</td>\n",
       "      <td>0</td>\n",
       "    </tr>\n",
       "    <tr>\n",
       "      <th>4</th>\n",
       "      <td>경제도서) 부의골든타임</td>\n",
       "      <td>0</td>\n",
       "    </tr>\n",
       "  </tbody>\n",
       "</table>\n",
       "</div>"
      ],
      "text/plain": [
       "                                               title  label\n",
       "0                  세액공제와 과세이연 받으며 노후를 준비하자![경제도서 추천]      0\n",
       "1  굴리기 도서 리뷰 | 국민연금만 믿고 있거나, 지금 가입한 연금 상품의 종류와 특성...      0\n",
       "2                                경제도서 신간 2030축의전환 완독      0\n",
       "3  경제도서 찾아보면 대략 다 비슷하게 알만한 내용인 것 같기도 하고... 큰 목차를....      0\n",
       "4                                       경제도서) 부의골든타임      0"
      ]
     },
     "execution_count": 34,
     "metadata": {},
     "output_type": "execute_result"
    }
   ],
   "source": [
    "blog_2021 = blog_2021.rename(columns = {\"body\":\"title\"})\n",
    "blog_2019 = blog_2019.rename(columns = {\"body\":\"title\"})\n",
    "blog_2021.head()\n",
    "blog_2019.head()"
   ]
  },
  {
   "cell_type": "code",
   "execution_count": 35,
   "id": "790f08dc",
   "metadata": {},
   "outputs": [
    {
     "data": {
      "text/html": [
       "<div>\n",
       "<style scoped>\n",
       "    .dataframe tbody tr th:only-of-type {\n",
       "        vertical-align: middle;\n",
       "    }\n",
       "\n",
       "    .dataframe tbody tr th {\n",
       "        vertical-align: top;\n",
       "    }\n",
       "\n",
       "    .dataframe thead th {\n",
       "        text-align: right;\n",
       "    }\n",
       "</style>\n",
       "<table border=\"1\" class=\"dataframe\">\n",
       "  <thead>\n",
       "    <tr style=\"text-align: right;\">\n",
       "      <th></th>\n",
       "      <th>label</th>\n",
       "      <th>title</th>\n",
       "    </tr>\n",
       "  </thead>\n",
       "  <tbody>\n",
       "    <tr>\n",
       "      <th>0</th>\n",
       "      <td>1</td>\n",
       "      <td>세진중공업, 560억 규모 육상플랜트 모듈 수주</td>\n",
       "    </tr>\n",
       "    <tr>\n",
       "      <th>1</th>\n",
       "      <td>1</td>\n",
       "      <td>한국조선해양, 지난해 수주액 100억 달러..목표 91% 달성</td>\n",
       "    </tr>\n",
       "    <tr>\n",
       "      <th>2</th>\n",
       "      <td>1</td>\n",
       "      <td>\"경기 하락세 1분기에는 다소 완화될 듯\"</td>\n",
       "    </tr>\n",
       "    <tr>\n",
       "      <th>3</th>\n",
       "      <td>1</td>\n",
       "      <td>울산 소상공인 81%는 '임차인'..보증금 네 번째 높아</td>\n",
       "    </tr>\n",
       "    <tr>\n",
       "      <th>4</th>\n",
       "      <td>1</td>\n",
       "      <td>횡성군, 산모 산후 관리비 지원 확대</td>\n",
       "    </tr>\n",
       "    <tr>\n",
       "      <th>...</th>\n",
       "      <td>...</td>\n",
       "      <td>...</td>\n",
       "    </tr>\n",
       "    <tr>\n",
       "      <th>2095</th>\n",
       "      <td>1</td>\n",
       "      <td>아로마테라피 스터디카페로 김해최고의 스카에 되어 월매출 3000만원 달성한다 © c...</td>\n",
       "    </tr>\n",
       "    <tr>\n",
       "      <th>2096</th>\n",
       "      <td>1</td>\n",
       "      <td>주식도서추천 2030 빅데이터 주식사전</td>\n",
       "    </tr>\n",
       "    <tr>\n",
       "      <th>2097</th>\n",
       "      <td>1</td>\n",
       "      <td>요즘 경제 도서를 정말 많이 읽고 보고 공부하고 있습니다. 세상이 어떻게... 경제...</td>\n",
       "    </tr>\n",
       "    <tr>\n",
       "      <th>2098</th>\n",
       "      <td>1</td>\n",
       "      <td>청소년경제도서추천 10만원이 10억 되는 재밌는 돈 공부</td>\n",
       "    </tr>\n",
       "    <tr>\n",
       "      <th>2099</th>\n",
       "      <td>1</td>\n",
       "      <td>제가 어린이대상 경제교육을 시작한 것도 같은 맥락일 수도 있지만 여튼 좋은... 제...</td>\n",
       "    </tr>\n",
       "  </tbody>\n",
       "</table>\n",
       "<p>52500 rows × 2 columns</p>\n",
       "</div>"
      ],
      "text/plain": [
       "      label                                              title\n",
       "0         1                         세진중공업, 560억 규모 육상플랜트 모듈 수주\n",
       "1         1                 한국조선해양, 지난해 수주액 100억 달러..목표 91% 달성\n",
       "2         1                            \"경기 하락세 1분기에는 다소 완화될 듯\"\n",
       "3         1                    울산 소상공인 81%는 '임차인'..보증금 네 번째 높아\n",
       "4         1                               횡성군, 산모 산후 관리비 지원 확대\n",
       "...     ...                                                ...\n",
       "2095      1  아로마테라피 스터디카페로 김해최고의 스카에 되어 월매출 3000만원 달성한다 © c...\n",
       "2096      1                              주식도서추천 2030 빅데이터 주식사전\n",
       "2097      1  요즘 경제 도서를 정말 많이 읽고 보고 공부하고 있습니다. 세상이 어떻게... 경제...\n",
       "2098      1                    청소년경제도서추천 10만원이 10억 되는 재밌는 돈 공부\n",
       "2099      1  제가 어린이대상 경제교육을 시작한 것도 같은 맥락일 수도 있지만 여튼 좋은... 제...\n",
       "\n",
       "[52500 rows x 2 columns]"
      ]
     },
     "execution_count": 35,
     "metadata": {},
     "output_type": "execute_result"
    }
   ],
   "source": [
    "trend_2021 = pd.concat([news_2021, blog_2021])\n",
    "trend_2021"
   ]
  },
  {
   "cell_type": "code",
   "execution_count": 37,
   "id": "edf2d40f",
   "metadata": {},
   "outputs": [],
   "source": [
    "trend_2019 = pd.concat([news_2019,blog_2019])"
   ]
  },
  {
   "cell_type": "code",
   "execution_count": 38,
   "id": "f558d7e5",
   "metadata": {},
   "outputs": [
    {
     "data": {
      "text/html": [
       "<div>\n",
       "<style scoped>\n",
       "    .dataframe tbody tr th:only-of-type {\n",
       "        vertical-align: middle;\n",
       "    }\n",
       "\n",
       "    .dataframe tbody tr th {\n",
       "        vertical-align: top;\n",
       "    }\n",
       "\n",
       "    .dataframe thead th {\n",
       "        text-align: right;\n",
       "    }\n",
       "</style>\n",
       "<table border=\"1\" class=\"dataframe\">\n",
       "  <thead>\n",
       "    <tr style=\"text-align: right;\">\n",
       "      <th></th>\n",
       "      <th>title</th>\n",
       "      <th>label</th>\n",
       "    </tr>\n",
       "  </thead>\n",
       "  <tbody>\n",
       "    <tr>\n",
       "      <th>0</th>\n",
       "      <td>기해년 새해 소망 사자성어 '마고소양(麻姑搔痒)'</td>\n",
       "      <td>0</td>\n",
       "    </tr>\n",
       "    <tr>\n",
       "      <th>1</th>\n",
       "      <td>지난해 자영업자 경기체감지수 사상 최대폭 하락</td>\n",
       "      <td>0</td>\n",
       "    </tr>\n",
       "    <tr>\n",
       "      <th>2</th>\n",
       "      <td>[가상화폐 뉴스] 01월 01일 23시 30분 비트코인(-0.95%), 질리카(4....</td>\n",
       "      <td>0</td>\n",
       "    </tr>\n",
       "    <tr>\n",
       "      <th>3</th>\n",
       "      <td>이마트, '한우 등심' 6개월간 가격 동결..\"33% 할인된 가격에 판매\"</td>\n",
       "      <td>0</td>\n",
       "    </tr>\n",
       "    <tr>\n",
       "      <th>4</th>\n",
       "      <td>이낙연 총리 \"일자리 지표 좋아져..정책기조 유지 부작용 최소화\"</td>\n",
       "      <td>0</td>\n",
       "    </tr>\n",
       "    <tr>\n",
       "      <th>...</th>\n",
       "      <td>...</td>\n",
       "      <td>...</td>\n",
       "    </tr>\n",
       "    <tr>\n",
       "      <th>2095</th>\n",
       "      <td>무천강 작가의 돈 버는 80가지 습관을 책과 경제를 좋아하는 분들에게 추천드리고 싶...</td>\n",
       "      <td>0</td>\n",
       "    </tr>\n",
       "    <tr>\n",
       "      <th>2096</th>\n",
       "      <td>경제관련 추천 도서 15</td>\n",
       "      <td>0</td>\n",
       "    </tr>\n",
       "    <tr>\n",
       "      <th>2097</th>\n",
       "      <td>1 경제기사 궁금증 300문 300답 곽해선 저, 동아일보사 2 자본주의 EBS자본...</td>\n",
       "      <td>0</td>\n",
       "    </tr>\n",
       "    <tr>\n",
       "      <th>2098</th>\n",
       "      <td>[도서인증] 경제학자의 인문학 서재</td>\n",
       "      <td>0</td>\n",
       "    </tr>\n",
       "    <tr>\n",
       "      <th>2099</th>\n",
       "      <td>이 책은 제목처럼 경제학자 박정호님이 '경제'에 대해 쉽게 이해하도록 인문학을 빌어...</td>\n",
       "      <td>0</td>\n",
       "    </tr>\n",
       "  </tbody>\n",
       "</table>\n",
       "<p>56850 rows × 2 columns</p>\n",
       "</div>"
      ],
      "text/plain": [
       "                                                  title  label\n",
       "0                           기해년 새해 소망 사자성어 '마고소양(麻姑搔痒)'      0\n",
       "1                             지난해 자영업자 경기체감지수 사상 최대폭 하락      0\n",
       "2     [가상화폐 뉴스] 01월 01일 23시 30분 비트코인(-0.95%), 질리카(4....      0\n",
       "3            이마트, '한우 등심' 6개월간 가격 동결..\"33% 할인된 가격에 판매\"       0\n",
       "4                 이낙연 총리 \"일자리 지표 좋아져..정책기조 유지 부작용 최소화\"       0\n",
       "...                                                 ...    ...\n",
       "2095  무천강 작가의 돈 버는 80가지 습관을 책과 경제를 좋아하는 분들에게 추천드리고 싶...      0\n",
       "2096                                      경제관련 추천 도서 15      0\n",
       "2097  1 경제기사 궁금증 300문 300답 곽해선 저, 동아일보사 2 자본주의 EBS자본...      0\n",
       "2098                                [도서인증] 경제학자의 인문학 서재      0\n",
       "2099  이 책은 제목처럼 경제학자 박정호님이 '경제'에 대해 쉽게 이해하도록 인문학을 빌어...      0\n",
       "\n",
       "[56850 rows x 2 columns]"
      ]
     },
     "execution_count": 38,
     "metadata": {},
     "output_type": "execute_result"
    }
   ],
   "source": [
    "trend_2019"
   ]
  },
  {
   "cell_type": "code",
   "execution_count": 79,
   "id": "70cf8a4c",
   "metadata": {},
   "outputs": [
    {
     "data": {
      "text/html": [
       "<div>\n",
       "<style scoped>\n",
       "    .dataframe tbody tr th:only-of-type {\n",
       "        vertical-align: middle;\n",
       "    }\n",
       "\n",
       "    .dataframe tbody tr th {\n",
       "        vertical-align: top;\n",
       "    }\n",
       "\n",
       "    .dataframe thead th {\n",
       "        text-align: right;\n",
       "    }\n",
       "</style>\n",
       "<table border=\"1\" class=\"dataframe\">\n",
       "  <thead>\n",
       "    <tr style=\"text-align: right;\">\n",
       "      <th></th>\n",
       "      <th>title</th>\n",
       "      <th>label</th>\n",
       "    </tr>\n",
       "  </thead>\n",
       "  <tbody>\n",
       "    <tr>\n",
       "      <th>0</th>\n",
       "      <td>기해년 새해 소망 사자성어 '마고소양(麻姑搔痒)'</td>\n",
       "      <td>0</td>\n",
       "    </tr>\n",
       "    <tr>\n",
       "      <th>1</th>\n",
       "      <td>지난해 자영업자 경기체감지수 사상 최대폭 하락</td>\n",
       "      <td>0</td>\n",
       "    </tr>\n",
       "    <tr>\n",
       "      <th>2</th>\n",
       "      <td>[가상화폐 뉴스] 01월 01일 23시 30분 비트코인(-0.95%), 질리카(4....</td>\n",
       "      <td>0</td>\n",
       "    </tr>\n",
       "    <tr>\n",
       "      <th>3</th>\n",
       "      <td>이마트, '한우 등심' 6개월간 가격 동결..\"33% 할인된 가격에 판매\"</td>\n",
       "      <td>0</td>\n",
       "    </tr>\n",
       "    <tr>\n",
       "      <th>4</th>\n",
       "      <td>이낙연 총리 \"일자리 지표 좋아져..정책기조 유지 부작용 최소화\"</td>\n",
       "      <td>0</td>\n",
       "    </tr>\n",
       "    <tr>\n",
       "      <th>...</th>\n",
       "      <td>...</td>\n",
       "      <td>...</td>\n",
       "    </tr>\n",
       "    <tr>\n",
       "      <th>2095</th>\n",
       "      <td>아로마테라피 스터디카페로 김해최고의 스카에 되어 월매출 3000만원 달성한다 © c...</td>\n",
       "      <td>1</td>\n",
       "    </tr>\n",
       "    <tr>\n",
       "      <th>2096</th>\n",
       "      <td>주식도서추천 2030 빅데이터 주식사전</td>\n",
       "      <td>1</td>\n",
       "    </tr>\n",
       "    <tr>\n",
       "      <th>2097</th>\n",
       "      <td>요즘 경제 도서를 정말 많이 읽고 보고 공부하고 있습니다. 세상이 어떻게... 경제...</td>\n",
       "      <td>1</td>\n",
       "    </tr>\n",
       "    <tr>\n",
       "      <th>2098</th>\n",
       "      <td>청소년경제도서추천 10만원이 10억 되는 재밌는 돈 공부</td>\n",
       "      <td>1</td>\n",
       "    </tr>\n",
       "    <tr>\n",
       "      <th>2099</th>\n",
       "      <td>제가 어린이대상 경제교육을 시작한 것도 같은 맥락일 수도 있지만 여튼 좋은... 제...</td>\n",
       "      <td>1</td>\n",
       "    </tr>\n",
       "  </tbody>\n",
       "</table>\n",
       "<p>109350 rows × 2 columns</p>\n",
       "</div>"
      ],
      "text/plain": [
       "                                                  title  label\n",
       "0                           기해년 새해 소망 사자성어 '마고소양(麻姑搔痒)'      0\n",
       "1                             지난해 자영업자 경기체감지수 사상 최대폭 하락      0\n",
       "2     [가상화폐 뉴스] 01월 01일 23시 30분 비트코인(-0.95%), 질리카(4....      0\n",
       "3            이마트, '한우 등심' 6개월간 가격 동결..\"33% 할인된 가격에 판매\"       0\n",
       "4                 이낙연 총리 \"일자리 지표 좋아져..정책기조 유지 부작용 최소화\"       0\n",
       "...                                                 ...    ...\n",
       "2095  아로마테라피 스터디카페로 김해최고의 스카에 되어 월매출 3000만원 달성한다 © c...      1\n",
       "2096                              주식도서추천 2030 빅데이터 주식사전      1\n",
       "2097  요즘 경제 도서를 정말 많이 읽고 보고 공부하고 있습니다. 세상이 어떻게... 경제...      1\n",
       "2098                    청소년경제도서추천 10만원이 10억 되는 재밌는 돈 공부      1\n",
       "2099  제가 어린이대상 경제교육을 시작한 것도 같은 맥락일 수도 있지만 여튼 좋은... 제...      1\n",
       "\n",
       "[109350 rows x 2 columns]"
      ]
     },
     "execution_count": 79,
     "metadata": {},
     "output_type": "execute_result"
    }
   ],
   "source": [
    "trend = pd.concat([trend_2019,trend_2021])\n",
    "trend # 모델링에 사용할 데이터셋"
   ]
  },
  {
   "cell_type": "code",
   "execution_count": 80,
   "id": "a6b9e199",
   "metadata": {},
   "outputs": [
    {
     "data": {
      "text/plain": [
       "\"기해년 새해 소망 사자성어 '마고소양(麻姑搔痒)'\""
      ]
     },
     "execution_count": 80,
     "metadata": {},
     "output_type": "execute_result"
    }
   ],
   "source": [
    "trend.iloc[0,0]"
   ]
  },
  {
   "cell_type": "code",
   "execution_count": 85,
   "id": "6dc21d26",
   "metadata": {},
   "outputs": [],
   "source": [
    "import re\n",
    "\n",
    "for a in list(range(len(trend))):\n",
    "    trend.iloc[a,0] = re.sub(r\"[^a-zA-Z0-9가-힣]\",\"\",str(trend.iloc[a,0]))"
   ]
  },
  {
   "cell_type": "code",
   "execution_count": 86,
   "id": "6db80226",
   "metadata": {},
   "outputs": [
    {
     "data": {
      "text/html": [
       "<div>\n",
       "<style scoped>\n",
       "    .dataframe tbody tr th:only-of-type {\n",
       "        vertical-align: middle;\n",
       "    }\n",
       "\n",
       "    .dataframe tbody tr th {\n",
       "        vertical-align: top;\n",
       "    }\n",
       "\n",
       "    .dataframe thead th {\n",
       "        text-align: right;\n",
       "    }\n",
       "</style>\n",
       "<table border=\"1\" class=\"dataframe\">\n",
       "  <thead>\n",
       "    <tr style=\"text-align: right;\">\n",
       "      <th></th>\n",
       "      <th>title</th>\n",
       "      <th>label</th>\n",
       "    </tr>\n",
       "  </thead>\n",
       "  <tbody>\n",
       "    <tr>\n",
       "      <th>0</th>\n",
       "      <td>기해년새해소망사자성어마고소양</td>\n",
       "      <td>0</td>\n",
       "    </tr>\n",
       "    <tr>\n",
       "      <th>1</th>\n",
       "      <td>지난해자영업자경기체감지수사상최대폭하락</td>\n",
       "      <td>0</td>\n",
       "    </tr>\n",
       "    <tr>\n",
       "      <th>2</th>\n",
       "      <td>가상화폐뉴스01월01일23시30분비트코인095질리카455제로엑스374한국</td>\n",
       "      <td>0</td>\n",
       "    </tr>\n",
       "    <tr>\n",
       "      <th>3</th>\n",
       "      <td>이마트한우등심6개월간가격동결33할인된가격에판매</td>\n",
       "      <td>0</td>\n",
       "    </tr>\n",
       "    <tr>\n",
       "      <th>4</th>\n",
       "      <td>이낙연총리일자리지표좋아져정책기조유지부작용최소화</td>\n",
       "      <td>0</td>\n",
       "    </tr>\n",
       "    <tr>\n",
       "      <th>...</th>\n",
       "      <td>...</td>\n",
       "      <td>...</td>\n",
       "    </tr>\n",
       "    <tr>\n",
       "      <th>2095</th>\n",
       "      <td>아로마테라피스터디카페로김해최고의스카에되어월매출3000만원달성한다craftedbygc...</td>\n",
       "      <td>1</td>\n",
       "    </tr>\n",
       "    <tr>\n",
       "      <th>2096</th>\n",
       "      <td>주식도서추천2030빅데이터주식사전</td>\n",
       "      <td>1</td>\n",
       "    </tr>\n",
       "    <tr>\n",
       "      <th>2097</th>\n",
       "      <td>요즘경제도서를정말많이읽고보고공부하고있습니다세상이어떻게경제나재테크는배워도배워도어렵지않...</td>\n",
       "      <td>1</td>\n",
       "    </tr>\n",
       "    <tr>\n",
       "      <th>2098</th>\n",
       "      <td>청소년경제도서추천10만원이10억되는재밌는돈공부</td>\n",
       "      <td>1</td>\n",
       "    </tr>\n",
       "    <tr>\n",
       "      <th>2099</th>\n",
       "      <td>제가어린이대상경제교육을시작한것도같은맥락일수도있지만여튼좋은제목은10만원이10억되는재밌...</td>\n",
       "      <td>1</td>\n",
       "    </tr>\n",
       "  </tbody>\n",
       "</table>\n",
       "<p>109350 rows × 2 columns</p>\n",
       "</div>"
      ],
      "text/plain": [
       "                                                  title  label\n",
       "0                                       기해년새해소망사자성어마고소양      0\n",
       "1                                  지난해자영업자경기체감지수사상최대폭하락      0\n",
       "2              가상화폐뉴스01월01일23시30분비트코인095질리카455제로엑스374한국      0\n",
       "3                             이마트한우등심6개월간가격동결33할인된가격에판매      0\n",
       "4                             이낙연총리일자리지표좋아져정책기조유지부작용최소화      0\n",
       "...                                                 ...    ...\n",
       "2095  아로마테라피스터디카페로김해최고의스카에되어월매출3000만원달성한다craftedbygc...      1\n",
       "2096                                 주식도서추천2030빅데이터주식사전      1\n",
       "2097  요즘경제도서를정말많이읽고보고공부하고있습니다세상이어떻게경제나재테크는배워도배워도어렵지않...      1\n",
       "2098                          청소년경제도서추천10만원이10억되는재밌는돈공부      1\n",
       "2099  제가어린이대상경제교육을시작한것도같은맥락일수도있지만여튼좋은제목은10만원이10억되는재밌...      1\n",
       "\n",
       "[109350 rows x 2 columns]"
      ]
     },
     "execution_count": 86,
     "metadata": {},
     "output_type": "execute_result"
    }
   ],
   "source": [
    "trend.to_csv(\"trend.csv\",encoding =\"cp949\")\n"
   ]
  },
  {
   "cell_type": "markdown",
   "id": "1d9c64df",
   "metadata": {},
   "source": [
    "# 머신러닝"
   ]
  },
  {
   "cell_type": "code",
   "execution_count": 43,
   "id": "383672e5",
   "metadata": {},
   "outputs": [
    {
     "name": "stdout",
     "output_type": "stream",
     "text": [
      "Collecting transformers\n",
      "  Downloading transformers-4.18.0-py3-none-any.whl (4.0 MB)\n",
      "Collecting sacremoses\n",
      "  Downloading sacremoses-0.0.49-py3-none-any.whl (895 kB)\n",
      "Requirement already satisfied: pyyaml>=5.1 in c:\\users\\user\\anaconda3\\lib\\site-packages (from transformers) (6.0)\n",
      "Requirement already satisfied: tqdm>=4.27 in c:\\users\\user\\anaconda3\\lib\\site-packages (from transformers) (4.62.3)\n",
      "Requirement already satisfied: numpy>=1.17 in c:\\users\\user\\anaconda3\\lib\\site-packages (from transformers) (1.20.3)\n",
      "Collecting huggingface-hub<1.0,>=0.1.0\n",
      "  Downloading huggingface_hub-0.5.1-py3-none-any.whl (77 kB)\n",
      "Requirement already satisfied: regex!=2019.12.17 in c:\\users\\user\\anaconda3\\lib\\site-packages (from transformers) (2021.8.3)\n",
      "Requirement already satisfied: requests in c:\\users\\user\\anaconda3\\lib\\site-packages (from transformers) (2.26.0)\n",
      "Collecting tokenizers!=0.11.3,<0.13,>=0.11.1\n",
      "  Downloading tokenizers-0.11.6-cp39-cp39-win_amd64.whl (3.2 MB)\n",
      "Requirement already satisfied: packaging>=20.0 in c:\\users\\user\\anaconda3\\lib\\site-packages (from transformers) (21.0)\n",
      "Requirement already satisfied: filelock in c:\\users\\user\\anaconda3\\lib\\site-packages (from transformers) (3.3.1)\n",
      "Requirement already satisfied: typing-extensions>=3.7.4.3 in c:\\users\\user\\anaconda3\\lib\\site-packages (from huggingface-hub<1.0,>=0.1.0->transformers) (3.10.0.2)\n",
      "Requirement already satisfied: pyparsing>=2.0.2 in c:\\users\\user\\anaconda3\\lib\\site-packages (from packaging>=20.0->transformers) (3.0.4)\n",
      "Requirement already satisfied: colorama in c:\\users\\user\\anaconda3\\lib\\site-packages (from tqdm>=4.27->transformers) (0.4.4)\n",
      "Requirement already satisfied: certifi>=2017.4.17 in c:\\users\\user\\anaconda3\\lib\\site-packages (from requests->transformers) (2021.10.8)\n",
      "Requirement already satisfied: charset-normalizer~=2.0.0 in c:\\users\\user\\anaconda3\\lib\\site-packages (from requests->transformers) (2.0.4)\n",
      "Requirement already satisfied: idna<4,>=2.5 in c:\\users\\user\\anaconda3\\lib\\site-packages (from requests->transformers) (3.2)\n",
      "Requirement already satisfied: urllib3<1.27,>=1.21.1 in c:\\users\\user\\anaconda3\\lib\\site-packages (from requests->transformers) (1.26.7)\n",
      "Requirement already satisfied: joblib in c:\\users\\user\\anaconda3\\lib\\site-packages (from sacremoses->transformers) (1.1.0)\n",
      "Requirement already satisfied: six in c:\\users\\user\\anaconda3\\lib\\site-packages (from sacremoses->transformers) (1.16.0)\n",
      "Requirement already satisfied: click in c:\\users\\user\\anaconda3\\lib\\site-packages (from sacremoses->transformers) (8.0.3)\n",
      "Installing collected packages: tokenizers, sacremoses, huggingface-hub, transformers\n",
      "Successfully installed huggingface-hub-0.5.1 sacremoses-0.0.49 tokenizers-0.11.6 transformers-4.18.0\n"
     ]
    }
   ],
   "source": [
    "!pip install transformers\n",
    "import transformers"
   ]
  },
  {
   "cell_type": "code",
   "execution_count": 44,
   "id": "49eff380",
   "metadata": {},
   "outputs": [],
   "source": [
    "import pandas as pd\n",
    "import numpy as np\n",
    "import urllib.request\n",
    "import os\n",
    "from tqdm import tqdm\n",
    "import tensorflow as tf\n",
    "from transformers import BertTokenizer, TFBertModel"
   ]
  },
  {
   "cell_type": "code",
   "execution_count": 45,
   "id": "f9d2421e",
   "metadata": {},
   "outputs": [],
   "source": [
    "from sklearn.model_selection import train_test_split"
   ]
  },
  {
   "cell_type": "code",
   "execution_count": 46,
   "id": "de03de7e",
   "metadata": {},
   "outputs": [],
   "source": [
    "train_data, test_data = train_test_split(trend, test_size=0.2, random_state=42)"
   ]
  },
  {
   "cell_type": "code",
   "execution_count": 53,
   "id": "2b10afac",
   "metadata": {},
   "outputs": [
    {
     "name": "stdout",
     "output_type": "stream",
     "text": [
      "False\n"
     ]
    }
   ],
   "source": [
    "train_data = train_data.dropna(how = 'any') # Null 값이 존재하는 행 제거\n",
    "train_data = train_data.reset_index(drop=True)\n",
    "print(train_data.isnull().values.any()) # Null 값이 존재하는지 확인"
   ]
  },
  {
   "cell_type": "code",
   "execution_count": 54,
   "id": "d84d185c",
   "metadata": {},
   "outputs": [
    {
     "name": "stdout",
     "output_type": "stream",
     "text": [
      "False\n"
     ]
    }
   ],
   "source": [
    "test_data = test_data.dropna(how = 'any') # Null 값이 존재하는 행 제거\n",
    "test_data = test_data.reset_index(drop=True)\n",
    "print(test_data.isnull().values.any()) # Null 값이 존재하는지 확인"
   ]
  },
  {
   "cell_type": "code",
   "execution_count": 47,
   "id": "b18dae3f",
   "metadata": {},
   "outputs": [
    {
     "name": "stdout",
     "output_type": "stream",
     "text": [
      "훈련용 리뷰 개수 : 87480\n"
     ]
    }
   ],
   "source": [
    "print('훈련용 리뷰 개수 :',len(train_data)) # 훈련용 리뷰 개수 출력"
   ]
  },
  {
   "cell_type": "code",
   "execution_count": 48,
   "id": "1e34c941",
   "metadata": {},
   "outputs": [
    {
     "name": "stdout",
     "output_type": "stream",
     "text": [
      "테스트용 리뷰 개수 : 21870\n"
     ]
    }
   ],
   "source": [
    "print('테스트용 리뷰 개수 :',len(test_data)) # 테스트용 리뷰 개수 출력"
   ]
  },
  {
   "cell_type": "code",
   "execution_count": 49,
   "id": "5552f2e3",
   "metadata": {},
   "outputs": [
    {
     "data": {
      "application/vnd.jupyter.widget-view+json": {
       "model_id": "1824a4ba4b56425eb7bded9acfb1070a",
       "version_major": 2,
       "version_minor": 0
      },
      "text/plain": [
       "Downloading:   0%|          | 0.00/243k [00:00<?, ?B/s]"
      ]
     },
     "metadata": {},
     "output_type": "display_data"
    },
    {
     "data": {
      "application/vnd.jupyter.widget-view+json": {
       "model_id": "4dc0cba6acfd481598056f3d20c02cc5",
       "version_major": 2,
       "version_minor": 0
      },
      "text/plain": [
       "Downloading:   0%|          | 0.00/125 [00:00<?, ?B/s]"
      ]
     },
     "metadata": {},
     "output_type": "display_data"
    },
    {
     "data": {
      "application/vnd.jupyter.widget-view+json": {
       "model_id": "35d89a3fe803493bb610d779dfdc1c12",
       "version_major": 2,
       "version_minor": 0
      },
      "text/plain": [
       "Downloading:   0%|          | 0.00/289 [00:00<?, ?B/s]"
      ]
     },
     "metadata": {},
     "output_type": "display_data"
    },
    {
     "data": {
      "application/vnd.jupyter.widget-view+json": {
       "model_id": "c2deae4fc0d241d88c0ce9ca6f30d964",
       "version_major": 2,
       "version_minor": 0
      },
      "text/plain": [
       "Downloading:   0%|          | 0.00/425 [00:00<?, ?B/s]"
      ]
     },
     "metadata": {},
     "output_type": "display_data"
    }
   ],
   "source": [
    "tokenizer = BertTokenizer.from_pretrained('klue/bert-base')"
   ]
  },
  {
   "cell_type": "code",
   "execution_count": 50,
   "id": "52983f1a",
   "metadata": {},
   "outputs": [],
   "source": [
    "max_seq_len = 64"
   ]
  },
  {
   "cell_type": "code",
   "execution_count": 51,
   "id": "4e1e464d",
   "metadata": {},
   "outputs": [],
   "source": [
    "def convert_examples_to_features(examples, labels, max_seq_len, tokenizer):\n",
    "    \n",
    "    input_ids, attention_masks, token_type_ids, data_labels = [], [], [], []\n",
    "    \n",
    "    for example, label in tqdm(zip(examples, labels), total=len(examples)):\n",
    "        input_id = tokenizer.encode(example, max_length=max_seq_len, pad_to_max_length=True)\n",
    "        padding_count = input_id.count(tokenizer.pad_token_id)\n",
    "        attention_mask = [1] * (max_seq_len - padding_count) + [0] * padding_count\n",
    "        token_type_id = [0] * max_seq_len\n",
    "\n",
    "        assert len(input_id) == max_seq_len, \"Error with input length {} vs {}\".format(len(input_id), max_seq_len)\n",
    "        assert len(attention_mask) == max_seq_len, \"Error with attention mask length {} vs {}\".format(len(attention_mask), max_seq_len)\n",
    "        assert len(token_type_id) == max_seq_len, \"Error with token type length {} vs {}\".format(len(token_type_id), max_seq_len)\n",
    "\n",
    "        input_ids.append(input_id)\n",
    "        attention_masks.append(attention_mask)\n",
    "        token_type_ids.append(token_type_id)\n",
    "        data_labels.append(label)\n",
    "\n",
    "    input_ids = np.array(input_ids, dtype=int)\n",
    "    attention_masks = np.array(attention_masks, dtype=int)\n",
    "    token_type_ids = np.array(token_type_ids, dtype=int)\n",
    "\n",
    "    data_labels = np.asarray(data_labels, dtype=np.int32)\n",
    "\n",
    "    return (input_ids, attention_masks, token_type_ids), data_labels"
   ]
  },
  {
   "cell_type": "code",
   "execution_count": 55,
   "id": "dc606b5b",
   "metadata": {},
   "outputs": [
    {
     "name": "stderr",
     "output_type": "stream",
     "text": [
      "100%|██████████████████████████████████████████████████████████████████████████| 87477/87477 [00:56<00:00, 1559.19it/s]\n",
      "100%|██████████████████████████████████████████████████████████████████████████| 21869/21869 [00:13<00:00, 1592.68it/s]\n"
     ]
    }
   ],
   "source": [
    "train_X, train_y = convert_examples_to_features(train_data['title'], train_data['label'], max_seq_len=max_seq_len, tokenizer=tokenizer)\n",
    "test_X, test_y = convert_examples_to_features(test_data['title'], test_data['label'], max_seq_len=max_seq_len, tokenizer=tokenizer)"
   ]
  },
  {
   "cell_type": "code",
   "execution_count": 56,
   "id": "9c062477",
   "metadata": {},
   "outputs": [],
   "source": [
    "input_id = train_X[0][0]\n",
    "attention_mask = train_X[1][0]\n",
    "token_type_id = train_X[2][0]\n",
    "label = train_y[0]"
   ]
  },
  {
   "cell_type": "code",
   "execution_count": 59,
   "id": "ff365e2b",
   "metadata": {},
   "outputs": [
    {
     "ename": "ModuleNotFoundError",
     "evalue": "No module named 'torch'",
     "output_type": "error",
     "traceback": [
      "\u001b[1;31m---------------------------------------------------------------------------\u001b[0m",
      "\u001b[1;31mModuleNotFoundError\u001b[0m                       Traceback (most recent call last)",
      "\u001b[1;32m~\\AppData\\Local\\Temp/ipykernel_12716/4265195184.py\u001b[0m in \u001b[0;36m<module>\u001b[1;34m\u001b[0m\n\u001b[1;32m----> 1\u001b[1;33m \u001b[1;32mimport\u001b[0m \u001b[0mtorch\u001b[0m\u001b[1;33m\u001b[0m\u001b[1;33m\u001b[0m\u001b[0m\n\u001b[0m",
      "\u001b[1;31mModuleNotFoundError\u001b[0m: No module named 'torch'"
     ]
    }
   ],
   "source": [
    "import torch"
   ]
  },
  {
   "cell_type": "code",
   "execution_count": 57,
   "id": "9116ca23",
   "metadata": {},
   "outputs": [
    {
     "data": {
      "application/vnd.jupyter.widget-view+json": {
       "model_id": "5557883e8f4044ca8e67ace60eb48cae",
       "version_major": 2,
       "version_minor": 0
      },
      "text/plain": [
       "Downloading:   0%|          | 0.00/424M [00:00<?, ?B/s]"
      ]
     },
     "metadata": {},
     "output_type": "display_data"
    },
    {
     "name": "stderr",
     "output_type": "stream",
     "text": [
      "Loading a PyTorch model in TensorFlow, requires both PyTorch and TensorFlow to be installed. Please see https://pytorch.org/ and https://www.tensorflow.org/install/ for installation instructions.\n"
     ]
    },
    {
     "ename": "ModuleNotFoundError",
     "evalue": "No module named 'torch'",
     "output_type": "error",
     "traceback": [
      "\u001b[1;31m---------------------------------------------------------------------------\u001b[0m",
      "\u001b[1;31mModuleNotFoundError\u001b[0m                       Traceback (most recent call last)",
      "\u001b[1;32m~\\AppData\\Local\\Temp/ipykernel_12716/730142645.py\u001b[0m in \u001b[0;36m<module>\u001b[1;34m\u001b[0m\n\u001b[1;32m----> 1\u001b[1;33m \u001b[0mmodel\u001b[0m \u001b[1;33m=\u001b[0m \u001b[0mTFBertModel\u001b[0m\u001b[1;33m.\u001b[0m\u001b[0mfrom_pretrained\u001b[0m\u001b[1;33m(\u001b[0m\u001b[1;34m\"klue/bert-base\"\u001b[0m\u001b[1;33m,\u001b[0m \u001b[0mfrom_pt\u001b[0m\u001b[1;33m=\u001b[0m\u001b[1;32mTrue\u001b[0m\u001b[1;33m)\u001b[0m\u001b[1;33m\u001b[0m\u001b[1;33m\u001b[0m\u001b[0m\n\u001b[0m",
      "\u001b[1;32m~\\anaconda3\\lib\\site-packages\\transformers\\modeling_tf_utils.py\u001b[0m in \u001b[0;36mfrom_pretrained\u001b[1;34m(cls, pretrained_model_name_or_path, *model_args, **kwargs)\u001b[0m\n\u001b[0;32m   1794\u001b[0m \u001b[1;33m\u001b[0m\u001b[0m\n\u001b[0;32m   1795\u001b[0m             \u001b[1;31m# Load from a PyTorch checkpoint\u001b[0m\u001b[1;33m\u001b[0m\u001b[1;33m\u001b[0m\u001b[0m\n\u001b[1;32m-> 1796\u001b[1;33m             \u001b[1;32mreturn\u001b[0m \u001b[0mload_pytorch_checkpoint_in_tf2_model\u001b[0m\u001b[1;33m(\u001b[0m\u001b[0mmodel\u001b[0m\u001b[1;33m,\u001b[0m \u001b[0mresolved_archive_file\u001b[0m\u001b[1;33m,\u001b[0m \u001b[0mallow_missing_keys\u001b[0m\u001b[1;33m=\u001b[0m\u001b[1;32mTrue\u001b[0m\u001b[1;33m)\u001b[0m\u001b[1;33m\u001b[0m\u001b[1;33m\u001b[0m\u001b[0m\n\u001b[0m\u001b[0;32m   1797\u001b[0m \u001b[1;33m\u001b[0m\u001b[0m\n\u001b[0;32m   1798\u001b[0m         \u001b[1;31m# we might need to extend the variable scope for composite models\u001b[0m\u001b[1;33m\u001b[0m\u001b[1;33m\u001b[0m\u001b[0m\n",
      "\u001b[1;32m~\\anaconda3\\lib\\site-packages\\transformers\\modeling_tf_pytorch_utils.py\u001b[0m in \u001b[0;36mload_pytorch_checkpoint_in_tf2_model\u001b[1;34m(tf_model, pytorch_checkpoint_path, tf_inputs, allow_missing_keys)\u001b[0m\n\u001b[0;32m    108\u001b[0m     \u001b[1;32mtry\u001b[0m\u001b[1;33m:\u001b[0m\u001b[1;33m\u001b[0m\u001b[1;33m\u001b[0m\u001b[0m\n\u001b[0;32m    109\u001b[0m         \u001b[1;32mimport\u001b[0m \u001b[0mtensorflow\u001b[0m \u001b[1;32mas\u001b[0m \u001b[0mtf\u001b[0m  \u001b[1;31m# noqa: F401\u001b[0m\u001b[1;33m\u001b[0m\u001b[1;33m\u001b[0m\u001b[0m\n\u001b[1;32m--> 110\u001b[1;33m         \u001b[1;32mimport\u001b[0m \u001b[0mtorch\u001b[0m  \u001b[1;31m# noqa: F401\u001b[0m\u001b[1;33m\u001b[0m\u001b[1;33m\u001b[0m\u001b[0m\n\u001b[0m\u001b[0;32m    111\u001b[0m     \u001b[1;32mexcept\u001b[0m \u001b[0mImportError\u001b[0m\u001b[1;33m:\u001b[0m\u001b[1;33m\u001b[0m\u001b[1;33m\u001b[0m\u001b[0m\n\u001b[0;32m    112\u001b[0m         logger.error(\n",
      "\u001b[1;31mModuleNotFoundError\u001b[0m: No module named 'torch'"
     ]
    }
   ],
   "source": [
    "model = TFBertModel.from_pretrained(\"klue/bert-base\", from_pt=True)"
   ]
  },
  {
   "cell_type": "code",
   "execution_count": null,
   "id": "9a82fd8b",
   "metadata": {},
   "outputs": [],
   "source": [
    "input_ids_layer = tf.keras.layers.Input(shape=(max_seq_len,), dtype=tf.int32)\n",
    "attention_masks_layer = tf.keras.layers.Input(shape=(max_seq_len,), dtype=tf.int32)\n",
    "token_type_ids_layer = tf.keras.layers.Input(shape=(max_seq_len,), dtype=tf.int32)\n",
    "\n",
    "outputs = model([input_ids_layer, attention_masks_layer, token_type_ids_layer])"
   ]
  },
  {
   "cell_type": "code",
   "execution_count": null,
   "id": "600f2793",
   "metadata": {},
   "outputs": [],
   "source": [
    "class TFBertForSequenceClassification(tf.keras.Model):\n",
    "    def __init__(self, model_name):\n",
    "        super(TFBertForSequenceClassification, self).__init__()\n",
    "        self.bert = TFBertModel.from_pretrained(model_name, from_pt=True)\n",
    "        self.classifier = tf.keras.layers.Dense(1,\n",
    "                                                kernel_initializer=tf.keras.initializers.TruncatedNormal(0.02),\n",
    "                                                activation='sigmoid',\n",
    "                                                name='classifier')\n",
    "\n",
    "    def call(self, inputs):\n",
    "        input_ids, attention_mask, token_type_ids = inputs\n",
    "        outputs = self.bert(input_ids=input_ids, attention_mask=attention_mask, token_type_ids=token_type_ids)\n",
    "        cls_token = outputs[1]\n",
    "        prediction = self.classifier(cls_token)\n",
    "\n",
    "        return prediction"
   ]
  },
  {
   "cell_type": "code",
   "execution_count": null,
   "id": "1a92fff2",
   "metadata": {},
   "outputs": [],
   "source": [
    "model = TFBertForSequenceClassification(\"klue/bert-base\")\n",
    "optimizer = tf.keras.optimizers.Adam(learning_rate=5e-5)\n",
    "loss = tf.keras.losses.BinaryCrossentropy()\n",
    "model.compile(optimizer=optimizer, loss=loss, metrics = ['accuracy'])"
   ]
  },
  {
   "cell_type": "code",
   "execution_count": null,
   "id": "814486cd",
   "metadata": {},
   "outputs": [],
   "source": [
    "model.fit(train_X, train_y, epochs=2, batch_size=64, validation_split=0.2)"
   ]
  },
  {
   "cell_type": "code",
   "execution_count": null,
   "id": "9668d8e2",
   "metadata": {},
   "outputs": [],
   "source": [
    "results = model.evaluate(test_X, test_y, batch_size=1024)\n",
    "print(\"test loss, test acc: \", results)"
   ]
  },
  {
   "cell_type": "code",
   "execution_count": null,
   "id": "aaf915f5",
   "metadata": {},
   "outputs": [],
   "source": [
    "def sentiment_predict(new_sentence):\n",
    "  input_id = tokenizer.encode(new_sentence, max_length=max_seq_len, pad_to_max_length=True)\n",
    "\n",
    "  padding_count = input_id.count(tokenizer.pad_token_id)\n",
    "  attention_mask = [1] * (max_seq_len - padding_count) + [0] * padding_count\n",
    "  token_type_id = [0] * max_seq_len\n",
    "\n",
    "  input_ids = np.array([input_id])\n",
    "  attention_masks = np.array([attention_mask])\n",
    "  token_type_ids = np.array([token_type_id])\n",
    "\n",
    "  encoded_input = [input_ids, attention_masks, token_type_ids]\n",
    "  score = model.predict(encoded_input)[0][0]\n",
    "\n",
    "  if(score > 0.5):\n",
    "    print(\"{:.2f}% 확률로 긍정 리뷰입니다.\\n\".format(score * 100))\n",
    "  else:\n",
    "    print(\"{:.2f}% 확률로 부정 리뷰입니다.\\n\".format((1 - score) * 100))"
   ]
  },
  {
   "cell_type": "code",
   "execution_count": null,
   "id": "9eccda4d",
   "metadata": {},
   "outputs": [],
   "source": []
  }
 ],
 "metadata": {
  "kernelspec": {
   "display_name": "Python 3 (ipykernel)",
   "language": "python",
   "name": "python3"
  },
  "language_info": {
   "codemirror_mode": {
    "name": "ipython",
    "version": 3
   },
   "file_extension": ".py",
   "mimetype": "text/x-python",
   "name": "python",
   "nbconvert_exporter": "python",
   "pygments_lexer": "ipython3",
   "version": "3.9.7"
  }
 },
 "nbformat": 4,
 "nbformat_minor": 5
}
